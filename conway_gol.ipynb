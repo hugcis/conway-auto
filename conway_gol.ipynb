{
 "cells": [
  {
   "cell_type": "code",
   "execution_count": 1,
   "metadata": {},
   "outputs": [],
   "source": [
    "%matplotlib qt\n",
    "\n",
    "import numpy as np\n",
    "import matplotlib.pyplot as plt\n",
    "import matplotlib.animation\n",
    "import scipy.signal\n"
   ]
  },
  {
   "cell_type": "code",
   "execution_count": 87,
   "metadata": {},
   "outputs": [],
   "source": [
    "L = 100\n",
    "W = 100\n",
    "D = int(0.1*L*W)"
   ]
  },
  {
   "cell_type": "code",
   "execution_count": 88,
   "metadata": {},
   "outputs": [],
   "source": [
    "grid = np.zeros((L, W), dtype=np.bool)\n",
    "grid[np.random.randint(L, size=D), np.random.randint(W, size=D)] = 1\n",
    "#grid[:5,:] = 1\n",
    "#grid [10:100, 30:50]= 1\n",
    "#grid [100:400, 100:400]= 1\n",
    "\n",
    "\n",
    "fig, ax = plt.subplots(figsize=(10, 10))\n",
    "gr = ax.imshow(grid, cmap='gray')\n",
    "\n",
    "\n",
    "def count_neighbors(grid, i, j):\n",
    "    return sum(map(int, [grid[a%W, b%L] \n",
    "                         for a in range(i-1, i+2) \n",
    "                         for b in range(j-1, j+2) \n",
    "                         if (a%W!=i or b%L!=j)]))\n",
    "\n",
    "def compute_next_grid(grid):\n",
    "    new_grid = grid.copy()\n",
    "    all_neighbors = scipy.signal.convolve2d(grid, np.array([[1, 1, 1], [1, 0, 1], [1, 1, 1]]), \n",
    "                                             mode='same', boundary='wrap')\n",
    "    \n",
    "    new_grid += np.logical_not(grid)*(all_neighbors==3)\n",
    "    new_grid ^= grid*(all_neighbors < 2) + grid*(all_neighbors > 3)\n",
    "    return new_grid\n",
    "\n",
    "def animate(t, grid):\n",
    "    \n",
    "\n",
    "    grid[:] = compute_next_grid(grid)[:]\n",
    "    gr.set_data(grid)\n",
    "    \n",
    "ani = matplotlib.animation.FuncAnimation(fig, animate, fargs=(grid,), blit=False, interval=0)\n",
    "ax.axis('off')\n",
    "fig.tight_layout()\n",
    "fig.show()"
   ]
  },
  {
   "cell_type": "code",
   "execution_count": 66,
   "metadata": {},
   "outputs": [],
   "source": [
    "from keras.layers import Conv2D, ReLU, Dense\n",
    "from keras.models import Sequential\n",
    "from keras.losses import mean_squared_error\n",
    "from keras.optimizers import Adadelta\n",
    "import keras"
   ]
  },
  {
   "cell_type": "code",
   "execution_count": 89,
   "metadata": {},
   "outputs": [],
   "source": [
    "X_train = []\n",
    "Y_train = []\n",
    "\n",
    "for _ in range(10):\n",
    "    grid = np.zeros((L, W), dtype=np.bool)\n",
    "    grid[np.random.randint(L, size=D), np.random.randint(W, size=D)] = 1\n",
    "    X_train.append(grid)\n",
    "    for _ in range(1000):\n",
    "        new_grid = compute_next_grid(grid)\n",
    "        Y_train.append(new_grid[:])\n",
    "        X_train.append(new_grid[:])\n",
    "        \n",
    "    new_grid = compute_next_grid(grid)\n",
    "    Y_train.append(new_grid[:])\n",
    "    \n",
    "X_val = []\n",
    "Y_val = []\n",
    "\n",
    "for _ in range(10):\n",
    "    grid = np.zeros((L, W), dtype=np.bool)\n",
    "    grid[np.random.randint(L, size=D), np.random.randint(W, size=D)] = 1\n",
    "    X_val.append(grid)\n",
    "    for _ in range(200):\n",
    "        new_grid = compute_next_grid(grid)\n",
    "        X_val.append(new_grid[:])\n",
    "        Y_val.append(new_grid[:])\n",
    "        \n",
    "    new_grid = compute_next_grid(grid)\n",
    "    Y_val.append(new_grid[:])"
   ]
  },
  {
   "cell_type": "code",
   "execution_count": 90,
   "metadata": {},
   "outputs": [],
   "source": [
    "X_train = np.array(X_train)\n",
    "Y_train = np.array(Y_train)\n",
    "\n",
    "X_val = np.array(X_val)\n",
    "Y_val = np.array(Y_val)"
   ]
  },
  {
   "cell_type": "code",
   "execution_count": 126,
   "metadata": {},
   "outputs": [],
   "source": [
    "m = Sequential()\n",
    "m.add(Conv2D(filters=2, kernel_size=3, input_shape=(100, 100, 1), padding=\"same\", activation=\"relu\"))\n",
    "m.add(Dense(1, activation='tanh'))\n",
    "\n",
    "m.compile(loss=mean_squared_error,\n",
    "          optimizer=Adadelta(), \n",
    "          metrics=[keras.metrics.mae])"
   ]
  },
  {
   "cell_type": "code",
   "execution_count": 127,
   "metadata": {},
   "outputs": [
    {
     "name": "stdout",
     "output_type": "stream",
     "text": [
      "Train on 10010 samples, validate on 2010 samples\n",
      "Epoch 1/5\n",
      "10010/10010 [==============================] - 17s 2ms/step - loss: 0.0338 - mean_absolute_error: 0.0674 - val_loss: 0.0058 - val_mean_absolute_error: 0.0213\n",
      "Epoch 2/5\n",
      "10010/10010 [==============================] - 17s 2ms/step - loss: 0.0013 - mean_absolute_error: 0.0094 - val_loss: 6.4927e-04 - val_mean_absolute_error: 0.0060\n",
      "Epoch 3/5\n",
      "10010/10010 [==============================] - 18s 2ms/step - loss: 2.0322e-04 - mean_absolute_error: 0.0053 - val_loss: 5.5298e-04 - val_mean_absolute_error: 0.0058\n",
      "Epoch 4/5\n",
      "10010/10010 [==============================] - 20s 2ms/step - loss: 1.5449e-04 - mean_absolute_error: 0.0057 - val_loss: 5.3579e-04 - val_mean_absolute_error: 0.0053\n",
      "Epoch 5/5\n",
      "10010/10010 [==============================] - 19s 2ms/step - loss: 1.2726e-04 - mean_absolute_error: 0.0033 - val_loss: 5.2232e-04 - val_mean_absolute_error: 0.0031\n"
     ]
    },
    {
     "data": {
      "text/plain": [
       "<keras.callbacks.History at 0x1c2bd25c18>"
      ]
     },
     "execution_count": 127,
     "metadata": {},
     "output_type": "execute_result"
    }
   ],
   "source": [
    "m.fit(X_train[:, :, :, np.newaxis], Y_train[:, :, :, np.newaxis], \n",
    "      epochs=5, batch_size=32, validation_data=[X_val[:, :, :, np.newaxis], Y_val[:, :, :, np.newaxis]])"
   ]
  },
  {
   "cell_type": "code",
   "execution_count": 128,
   "metadata": {},
   "outputs": [],
   "source": [
    "s = m.predict(X_train[540, :, :, np.newaxis].reshape(1, 100, 100, 1))"
   ]
  },
  {
   "cell_type": "code",
   "execution_count": 129,
   "metadata": {},
   "outputs": [
    {
     "data": {
      "text/plain": [
       "<matplotlib.image.AxesImage at 0x1c2f01fc88>"
      ]
     },
     "execution_count": 129,
     "metadata": {},
     "output_type": "execute_result"
    }
   ],
   "source": [
    "plt.imshow(s[0, :, :, 0])\n"
   ]
  },
  {
   "cell_type": "code",
   "execution_count": 130,
   "metadata": {},
   "outputs": [
    {
     "data": {
      "text/plain": [
       "<matplotlib.image.AxesImage at 0x1c2eed97b8>"
      ]
     },
     "execution_count": 130,
     "metadata": {},
     "output_type": "execute_result"
    }
   ],
   "source": [
    "plt.figure()\n",
    "plt.imshow(X_train[540, :, :])"
   ]
  },
  {
   "cell_type": "code",
   "execution_count": 131,
   "metadata": {},
   "outputs": [],
   "source": [
    "v = m.layers[0].weights[0]\n"
   ]
  },
  {
   "cell_type": "code",
   "execution_count": 114,
   "metadata": {},
   "outputs": [],
   "source": [
    "from keras.backend import get_session"
   ]
  },
  {
   "cell_type": "code",
   "execution_count": 132,
   "metadata": {},
   "outputs": [],
   "source": [
    "v_ = v.eval(get_session())"
   ]
  },
  {
   "cell_type": "code",
   "execution_count": 144,
   "metadata": {},
   "outputs": [
    {
     "name": "stdout",
     "output_type": "stream",
     "text": [
      "[[ 0.03331073  0.24320373  0.08035007]\n",
      " [ 0.04181295 -0.34073147  0.291245  ]\n",
      " [ 0.06266355  0.13147485  0.01135006]]\n"
     ]
    },
    {
     "data": {
      "text/plain": [
       "<matplotlib.colorbar.Colorbar at 0x1c41357e80>"
      ]
     },
     "execution_count": 144,
     "metadata": {},
     "output_type": "execute_result"
    }
   ],
   "source": [
    "print(v_[:, :, 0, 0])\n",
    "plt.imshow(v_[:, :, 0, 0])\n",
    "plt.colorbar()"
   ]
  },
  {
   "cell_type": "code",
   "execution_count": 145,
   "metadata": {},
   "outputs": [
    {
     "name": "stdout",
     "output_type": "stream",
     "text": [
      "[[0.02140622 0.15627892 0.05162006]\n",
      " [0.0269519  1.1345521  0.1871164 ]\n",
      " [0.04024982 0.08453029 0.00729506]]\n"
     ]
    },
    {
     "data": {
      "text/plain": [
       "<matplotlib.colorbar.Colorbar at 0x1c2f5768d0>"
      ]
     },
     "execution_count": 145,
     "metadata": {},
     "output_type": "execute_result"
    }
   ],
   "source": [
    "print(v_[:, :, 0, 1])\n",
    "plt.imshow(v_[:, :, 0, 1])\n",
    "plt.colorbar()"
   ]
  },
  {
   "cell_type": "code",
   "execution_count": 139,
   "metadata": {},
   "outputs": [],
   "source": [
    "q = m.layers[1].weights[0]\n",
    "q_ = q.eval(get_session())"
   ]
  },
  {
   "cell_type": "code",
   "execution_count": 141,
   "metadata": {},
   "outputs": [
    {
     "data": {
      "text/plain": [
       "array([[-1.1652563],\n",
       "       [ 1.81402  ]], dtype=float32)"
      ]
     },
     "execution_count": 141,
     "metadata": {},
     "output_type": "execute_result"
    }
   ],
   "source": [
    "q_"
   ]
  },
  {
   "cell_type": "code",
   "execution_count": 149,
   "metadata": {},
   "outputs": [
    {
     "data": {
      "text/plain": [
       "array([[-0.29891852,  0.02563722,  0.19371727],\n",
       "       [ 0.47065286,  0.57085521, -0.11755649],\n",
       "       [-0.29891852,  0.01317709,  0.42271987]])"
      ]
     },
     "execution_count": 149,
     "metadata": {},
     "output_type": "execute_result"
    }
   ],
   "source": [
    "scipy.signal.convolve2d(np.array([[1, 1, 1], [0, 0, 1], [1, 1, 0]]), v_[:, :, 0, 0],  mode='same')"
   ]
  },
  {
   "cell_type": "code",
   "execution_count": 150,
   "metadata": {},
   "outputs": [
    {
     "data": {
      "text/plain": [
       "array([[1.16150402, 1.37002664, 1.47794744],\n",
       "       [0.30246525, 0.36692606, 1.27799753],\n",
       "       [1.16150402, 1.36191835, 0.27164669]])"
      ]
     },
     "execution_count": 150,
     "metadata": {},
     "output_type": "execute_result"
    }
   ],
   "source": [
    "scipy.signal.convolve2d(np.array([[1, 1, 1], [0, 0, 1], [1, 1, 0]]), v_[:, :, 0, 1],  mode='same')"
   ]
  },
  {
   "cell_type": "code",
   "execution_count": null,
   "metadata": {},
   "outputs": [],
   "source": []
  }
 ],
 "metadata": {
  "kernelspec": {
   "display_name": "Python 3",
   "language": "python",
   "name": "python3"
  },
  "language_info": {
   "codemirror_mode": {
    "name": "ipython",
    "version": 3
   },
   "file_extension": ".py",
   "mimetype": "text/x-python",
   "name": "python",
   "nbconvert_exporter": "python",
   "pygments_lexer": "ipython3",
   "version": "3.7.1"
  }
 },
 "nbformat": 4,
 "nbformat_minor": 2
}
